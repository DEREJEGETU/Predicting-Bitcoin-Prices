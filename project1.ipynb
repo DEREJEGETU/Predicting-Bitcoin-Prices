{
 "cells": [
  {
   "cell_type": "code",
   "execution_count": 79,
   "metadata": {},
   "outputs": [],
   "source": [
    "import pandas as pd\n",
    "import numpy as np\n",
    "import matplotlib.pyplot as plt\n",
    "import timeit"
   ]
  },
  {
   "cell_type": "code",
   "execution_count": 80,
   "metadata": {},
   "outputs": [],
   "source": [
    "import google.cloud.bigquery"
   ]
  },
  {
   "cell_type": "code",
   "execution_count": 81,
   "metadata": {},
   "outputs": [],
   "source": [
    "import os \n",
    "os.environ[\"GOOGLE_APPLICATION_CREDENTIALS\"]= \"projectnss-ceec5b241166.json\""
   ]
  },
  {
   "cell_type": "code",
   "execution_count": 82,
   "metadata": {},
   "outputs": [],
   "source": [
    "# Create a big query client \n",
    "bigquery_client=google.cloud.bigquery.Client(project='projectnss-207606')"
   ]
  },
  {
   "cell_type": "code",
   "execution_count": 83,
   "metadata": {},
   "outputs": [],
   "source": [
    "# # Querying  a bitcoin data set \n",
    "# query=bigquery_client.query(\"\"\"\n",
    "# #Standard SQL\n",
    "# SELECT * FROM [bigquery-public-data:bitcoin_blockchain.blocks] LIMIT 1000;\n",
    "# \"\"\"\n",
    "# )\n",
    "# query_job = client.query(query)  # API request\n",
    "# rows = query_job.result()  # Waits for query to finish"
   ]
  },
  {
   "cell_type": "code",
   "execution_count": 84,
   "metadata": {},
   "outputs": [],
   "source": [
    "import quandl\n",
    "#import gsutil as gsl"
   ]
  },
  {
   "cell_type": "code",
   "execution_count": 85,
   "metadata": {},
   "outputs": [],
   "source": [
    "path='C:\\\\Users\\\\getud\\\\Dropbox\\\\Dereje Personal\\\\NSS DS\\\\test'"
   ]
  },
  {
   "cell_type": "code",
   "execution_count": 86,
   "metadata": {},
   "outputs": [],
   "source": [
    "#gsutil -m cp -r path gs://nss_bitcoin"
   ]
  },
  {
   "cell_type": "code",
   "execution_count": 87,
   "metadata": {},
   "outputs": [],
   "source": [
    "#gsutil -m cp -R gs://nss_bitcoin"
   ]
  },
  {
   "cell_type": "code",
   "execution_count": 88,
   "metadata": {},
   "outputs": [
    {
     "data": {
      "text/plain": [
       "'C:\\\\Users\\\\getud\\\\Dropbox\\\\Dereje Personal\\\\NSS DS\\\\test'"
      ]
     },
     "execution_count": 88,
     "metadata": {},
     "output_type": "execute_result"
    }
   ],
   "source": [
    "pwd"
   ]
  },
  {
   "cell_type": "code",
   "execution_count": 89,
   "metadata": {},
   "outputs": [],
   "source": [
    "quandl.ApiConfig.api_key=\"29uxx6wPZvnx4gStWcpy\""
   ]
  },
  {
   "cell_type": "code",
   "execution_count": 90,
   "metadata": {},
   "outputs": [],
   "source": [
    "columnlist=[\"BCHAIN/TOTBC\",\n",
    "\"BCHAIN/MKTCP\",\n",
    "\"BCHAIN/TRFEE\",\n",
    "\"BCHAIN/TRFUS\",\n",
    "\"BCHAIN/NETDF\",\n",
    "\"BCHAIN/NTRAN\",\n",
    "\"BCHAIN/NTRAT\",\n",
    "\"BCHAIN/NTREP\",\n",
    "\"BCHAIN/NADDU\",\n",
    "\"BCHAIN/NTRBL\",\n",
    "\"BCHAIN/TOUTV\",\n",
    "\"BCHAIN/ETRAV\",\n",
    "\"BCHAIN/ETRVU\",\n",
    "\"BCHAIN/TRVOU\",\n",
    "\"BCHAIN/TVTVR\", \n",
    "\"BCHAIN/MKPRU\",\n",
    "\"BCHAIN/CPTRV\",\n",
    "\"BCHAIN/CPTRA\",\n",
    "\"BCHAIN/HRATE\",\n",
    "\"BCHAIN/MIREV\",\n",
    "\"BCHAIN/ATRCT\",\n",
    "\"BCHAIN/BCDDC\",\n",
    "\"BCHAIN/BCDDE\",\n",
    "\"BCHAIN/BCDDW\",\n",
    "\"BCHAIN/BCDDM\",\n",
    "\"BCHAIN/BCDDY\",\n",
    "\"BCHAIN/BLCHS\",\n",
    "\"BCHAIN/AVBLS\",\n",
    "\"BCHAIN/MWTRV\",\n",
    "\"BCHAIN/MWNUS\",\n",
    "\"BCHAIN/MWNTD\",\n",
    "\"BCHAIN/MIOPM\",\n",
    "\"BCHAIN/DIFF\"]\n"
   ]
  },
  {
   "cell_type": "code",
   "execution_count": 91,
   "metadata": {},
   "outputs": [
    {
     "data": {
      "text/plain": [
       "33"
      ]
     },
     "execution_count": 91,
     "metadata": {},
     "output_type": "execute_result"
    }
   ],
   "source": [
    "len(columnlist)"
   ]
  },
  {
   "cell_type": "code",
   "execution_count": 92,
   "metadata": {},
   "outputs": [],
   "source": [
    "# quandl.get(\"BCHAIN/MIOPM\").info()"
   ]
  },
  {
   "cell_type": "code",
   "execution_count": 93,
   "metadata": {},
   "outputs": [],
   "source": [
    "# %%timeit\n",
    "btc_df = pd.concat([quandl.get(df) for df in columnlist], join='outer',ignore_index=False, axis=1)"
   ]
  },
  {
   "cell_type": "code",
   "execution_count": 94,
   "metadata": {},
   "outputs": [
    {
     "data": {
      "text/html": [
       "<div>\n",
       "<style scoped>\n",
       "    .dataframe tbody tr th:only-of-type {\n",
       "        vertical-align: middle;\n",
       "    }\n",
       "\n",
       "    .dataframe tbody tr th {\n",
       "        vertical-align: top;\n",
       "    }\n",
       "\n",
       "    .dataframe thead th {\n",
       "        text-align: right;\n",
       "    }\n",
       "</style>\n",
       "<table border=\"1\" class=\"dataframe\">\n",
       "  <thead>\n",
       "    <tr style=\"text-align: right;\">\n",
       "      <th></th>\n",
       "      <th>Value</th>\n",
       "      <th>Value</th>\n",
       "      <th>Value</th>\n",
       "      <th>Value</th>\n",
       "      <th>Value</th>\n",
       "      <th>Value</th>\n",
       "      <th>Value</th>\n",
       "      <th>Value</th>\n",
       "      <th>Value</th>\n",
       "      <th>Value</th>\n",
       "      <th>...</th>\n",
       "      <th>Value</th>\n",
       "      <th>Value</th>\n",
       "      <th>Value</th>\n",
       "      <th>Value</th>\n",
       "      <th>Value</th>\n",
       "      <th>Value</th>\n",
       "      <th>Value</th>\n",
       "      <th>Value</th>\n",
       "      <th>Value</th>\n",
       "      <th>Value</th>\n",
       "    </tr>\n",
       "    <tr>\n",
       "      <th>Date</th>\n",
       "      <th></th>\n",
       "      <th></th>\n",
       "      <th></th>\n",
       "      <th></th>\n",
       "      <th></th>\n",
       "      <th></th>\n",
       "      <th></th>\n",
       "      <th></th>\n",
       "      <th></th>\n",
       "      <th></th>\n",
       "      <th></th>\n",
       "      <th></th>\n",
       "      <th></th>\n",
       "      <th></th>\n",
       "      <th></th>\n",
       "      <th></th>\n",
       "      <th></th>\n",
       "      <th></th>\n",
       "      <th></th>\n",
       "      <th></th>\n",
       "      <th></th>\n",
       "    </tr>\n",
       "  </thead>\n",
       "  <tbody>\n",
       "    <tr>\n",
       "      <th>2009-01-03</th>\n",
       "      <td>50.0</td>\n",
       "      <td>0.0</td>\n",
       "      <td>0.0</td>\n",
       "      <td>0.0</td>\n",
       "      <td>0.0</td>\n",
       "      <td>1.0</td>\n",
       "      <td>1.0</td>\n",
       "      <td>1.0</td>\n",
       "      <td>1.0</td>\n",
       "      <td>1.0</td>\n",
       "      <td>...</td>\n",
       "      <td>0.0</td>\n",
       "      <td>0.0</td>\n",
       "      <td>0.0</td>\n",
       "      <td>0.0</td>\n",
       "      <td>0.000272</td>\n",
       "      <td>0.0</td>\n",
       "      <td>2.0</td>\n",
       "      <td>0.0</td>\n",
       "      <td>-2.147484e+09</td>\n",
       "      <td>1.0</td>\n",
       "    </tr>\n",
       "    <tr>\n",
       "      <th>2009-01-04</th>\n",
       "      <td>50.0</td>\n",
       "      <td>0.0</td>\n",
       "      <td>0.0</td>\n",
       "      <td>0.0</td>\n",
       "      <td>0.0</td>\n",
       "      <td>0.0</td>\n",
       "      <td>1.0</td>\n",
       "      <td>0.0</td>\n",
       "      <td>0.0</td>\n",
       "      <td>1.0</td>\n",
       "      <td>...</td>\n",
       "      <td>0.0</td>\n",
       "      <td>0.0</td>\n",
       "      <td>0.0</td>\n",
       "      <td>0.0</td>\n",
       "      <td>0.000000</td>\n",
       "      <td>0.0</td>\n",
       "      <td>2.0</td>\n",
       "      <td>0.0</td>\n",
       "      <td>0.000000e+00</td>\n",
       "      <td>0.0</td>\n",
       "    </tr>\n",
       "    <tr>\n",
       "      <th>2009-01-05</th>\n",
       "      <td>50.0</td>\n",
       "      <td>0.0</td>\n",
       "      <td>0.0</td>\n",
       "      <td>0.0</td>\n",
       "      <td>0.0</td>\n",
       "      <td>0.0</td>\n",
       "      <td>1.0</td>\n",
       "      <td>0.0</td>\n",
       "      <td>0.0</td>\n",
       "      <td>1.0</td>\n",
       "      <td>...</td>\n",
       "      <td>0.0</td>\n",
       "      <td>0.0</td>\n",
       "      <td>0.0</td>\n",
       "      <td>0.0</td>\n",
       "      <td>0.000000</td>\n",
       "      <td>0.0</td>\n",
       "      <td>2.0</td>\n",
       "      <td>0.0</td>\n",
       "      <td>0.000000e+00</td>\n",
       "      <td>0.0</td>\n",
       "    </tr>\n",
       "    <tr>\n",
       "      <th>2009-01-06</th>\n",
       "      <td>50.0</td>\n",
       "      <td>0.0</td>\n",
       "      <td>0.0</td>\n",
       "      <td>0.0</td>\n",
       "      <td>0.0</td>\n",
       "      <td>0.0</td>\n",
       "      <td>1.0</td>\n",
       "      <td>0.0</td>\n",
       "      <td>0.0</td>\n",
       "      <td>1.0</td>\n",
       "      <td>...</td>\n",
       "      <td>0.0</td>\n",
       "      <td>0.0</td>\n",
       "      <td>0.0</td>\n",
       "      <td>0.0</td>\n",
       "      <td>0.000000</td>\n",
       "      <td>0.0</td>\n",
       "      <td>2.0</td>\n",
       "      <td>0.0</td>\n",
       "      <td>0.000000e+00</td>\n",
       "      <td>0.0</td>\n",
       "    </tr>\n",
       "    <tr>\n",
       "      <th>2009-01-07</th>\n",
       "      <td>50.0</td>\n",
       "      <td>0.0</td>\n",
       "      <td>0.0</td>\n",
       "      <td>0.0</td>\n",
       "      <td>0.0</td>\n",
       "      <td>0.0</td>\n",
       "      <td>1.0</td>\n",
       "      <td>0.0</td>\n",
       "      <td>0.0</td>\n",
       "      <td>1.0</td>\n",
       "      <td>...</td>\n",
       "      <td>0.0</td>\n",
       "      <td>0.0</td>\n",
       "      <td>0.0</td>\n",
       "      <td>0.0</td>\n",
       "      <td>0.000000</td>\n",
       "      <td>0.0</td>\n",
       "      <td>2.0</td>\n",
       "      <td>0.0</td>\n",
       "      <td>0.000000e+00</td>\n",
       "      <td>0.0</td>\n",
       "    </tr>\n",
       "  </tbody>\n",
       "</table>\n",
       "<p>5 rows × 33 columns</p>\n",
       "</div>"
      ],
      "text/plain": [
       "            Value  Value  Value  Value  Value  Value  Value  Value  Value  \\\n",
       "Date                                                                        \n",
       "2009-01-03   50.0    0.0    0.0    0.0    0.0    1.0    1.0    1.0    1.0   \n",
       "2009-01-04   50.0    0.0    0.0    0.0    0.0    0.0    1.0    0.0    0.0   \n",
       "2009-01-05   50.0    0.0    0.0    0.0    0.0    0.0    1.0    0.0    0.0   \n",
       "2009-01-06   50.0    0.0    0.0    0.0    0.0    0.0    1.0    0.0    0.0   \n",
       "2009-01-07   50.0    0.0    0.0    0.0    0.0    0.0    1.0    0.0    0.0   \n",
       "\n",
       "            Value  ...    Value  Value  Value  Value     Value  Value  Value  \\\n",
       "Date               ...                                                         \n",
       "2009-01-03    1.0  ...      0.0    0.0    0.0    0.0  0.000272    0.0    2.0   \n",
       "2009-01-04    1.0  ...      0.0    0.0    0.0    0.0  0.000000    0.0    2.0   \n",
       "2009-01-05    1.0  ...      0.0    0.0    0.0    0.0  0.000000    0.0    2.0   \n",
       "2009-01-06    1.0  ...      0.0    0.0    0.0    0.0  0.000000    0.0    2.0   \n",
       "2009-01-07    1.0  ...      0.0    0.0    0.0    0.0  0.000000    0.0    2.0   \n",
       "\n",
       "            Value         Value  Value  \n",
       "Date                                    \n",
       "2009-01-03    0.0 -2.147484e+09    1.0  \n",
       "2009-01-04    0.0  0.000000e+00    0.0  \n",
       "2009-01-05    0.0  0.000000e+00    0.0  \n",
       "2009-01-06    0.0  0.000000e+00    0.0  \n",
       "2009-01-07    0.0  0.000000e+00    0.0  \n",
       "\n",
       "[5 rows x 33 columns]"
      ]
     },
     "execution_count": 94,
     "metadata": {},
     "output_type": "execute_result"
    }
   ],
   "source": [
    "btc_df.head()"
   ]
  },
  {
   "cell_type": "code",
   "execution_count": 95,
   "metadata": {},
   "outputs": [],
   "source": [
    "btc_df.columns = columnlist"
   ]
  },
  {
   "cell_type": "code",
   "execution_count": 96,
   "metadata": {},
   "outputs": [
    {
     "data": {
      "text/plain": [
       "Index(['BCHAIN/TOTBC', 'BCHAIN/MKTCP', 'BCHAIN/TRFEE', 'BCHAIN/TRFUS',\n",
       "       'BCHAIN/NETDF', 'BCHAIN/NTRAN', 'BCHAIN/NTRAT', 'BCHAIN/NTREP',\n",
       "       'BCHAIN/NADDU', 'BCHAIN/NTRBL', 'BCHAIN/TOUTV', 'BCHAIN/ETRAV',\n",
       "       'BCHAIN/ETRVU', 'BCHAIN/TRVOU', 'BCHAIN/TVTVR', 'BCHAIN/MKPRU',\n",
       "       'BCHAIN/CPTRV', 'BCHAIN/CPTRA', 'BCHAIN/HRATE', 'BCHAIN/MIREV',\n",
       "       'BCHAIN/ATRCT', 'BCHAIN/BCDDC', 'BCHAIN/BCDDE', 'BCHAIN/BCDDW',\n",
       "       'BCHAIN/BCDDM', 'BCHAIN/BCDDY', 'BCHAIN/BLCHS', 'BCHAIN/AVBLS',\n",
       "       'BCHAIN/MWTRV', 'BCHAIN/MWNUS', 'BCHAIN/MWNTD', 'BCHAIN/MIOPM',\n",
       "       'BCHAIN/DIFF'],\n",
       "      dtype='object')"
      ]
     },
     "execution_count": 96,
     "metadata": {},
     "output_type": "execute_result"
    }
   ],
   "source": [
    "btc_df.columns"
   ]
  },
  {
   "cell_type": "code",
   "execution_count": 97,
   "metadata": {},
   "outputs": [],
   "source": [
    "btc_df.to_csv('btc_df.csv')"
   ]
  },
  {
   "cell_type": "code",
   "execution_count": 98,
   "metadata": {},
   "outputs": [],
   "source": [
    "# btc_df.info()"
   ]
  },
  {
   "cell_type": "code",
   "execution_count": 99,
   "metadata": {},
   "outputs": [],
   "source": [
    "# import matplotlib.pyplot as plt\n",
    "# btc_df.plot(figsize=(20,10))"
   ]
  },
  {
   "cell_type": "code",
   "execution_count": 100,
   "metadata": {},
   "outputs": [],
   "source": [
    "# import pandas as pd\n",
    "# for i in columnlist:\n",
    "# #     btc_df = pd.DataFrame()\n",
    "#     data= quandl.get(i)\n",
    "# #     result=pd.concat(quandl.get(i), join='outer')"
   ]
  },
  {
   "cell_type": "code",
   "execution_count": 101,
   "metadata": {},
   "outputs": [],
   "source": [
    "# df_list = []\n",
    "\n",
    "# reader = pd.read_csv(tax_sample, sep='\\|\\|', engine='python', \n",
    "#                      dtype=tax_column_types, chunksize=10, nrows=100)\n",
    "\n",
    "# for chunk in reader:\n",
    "#    tmp = chunk[chunk['state'].isin(state_list)]    \n",
    "#    df_list.append(tmp)\n",
    "\n",
    "# master_df = pd.concat(df_list)\n",
    "\n",
    "# for g in master_df.groupby('state'):\n",
    "#     g[1].to_csv('property' + g[0] + '.csv')"
   ]
  },
  {
   "cell_type": "code",
   "execution_count": 102,
   "metadata": {},
   "outputs": [],
   "source": [
    "# b_difficulty = quandl.get(\"BCHAIN/DIFF\")"
   ]
  },
  {
   "cell_type": "code",
   "execution_count": 103,
   "metadata": {},
   "outputs": [],
   "source": [
    "# b_difficulty.info()"
   ]
  },
  {
   "cell_type": "code",
   "execution_count": 104,
   "metadata": {},
   "outputs": [],
   "source": [
    "# b_difficulty.head()"
   ]
  },
  {
   "cell_type": "code",
   "execution_count": 105,
   "metadata": {},
   "outputs": [],
   "source": [
    "# b_operating_margin=quandl.get(\"BCHAIN/MIOPM\")"
   ]
  },
  {
   "cell_type": "code",
   "execution_count": 106,
   "metadata": {},
   "outputs": [],
   "source": [
    "# b_operating_margin.info()"
   ]
  },
  {
   "cell_type": "code",
   "execution_count": 107,
   "metadata": {},
   "outputs": [],
   "source": [
    "# b_operating_margin.head()"
   ]
  },
  {
   "cell_type": "code",
   "execution_count": 108,
   "metadata": {},
   "outputs": [],
   "source": [
    "# hash_rate=quandl.get(\"BCHAIN/HRATE\")"
   ]
  },
  {
   "cell_type": "code",
   "execution_count": 109,
   "metadata": {},
   "outputs": [],
   "source": [
    "# hash_rate.info()"
   ]
  },
  {
   "cell_type": "code",
   "execution_count": 110,
   "metadata": {},
   "outputs": [],
   "source": [
    "# Getting the Price of Gold \n",
    "#gold_df=quandl.get(\"WGC/GOLD_DAILY_USD\", authtoken=\"29uxx6wPZvnx4gStWcpy\")"
   ]
  },
  {
   "cell_type": "code",
   "execution_count": 111,
   "metadata": {},
   "outputs": [],
   "source": [
    "# Getting the price of gold from london Market \n",
    "\n",
    "gold_df=quandl.get(\"LBMA/GOLD\", authtoken=\"29uxx6wPZvnx4gStWcpy\")"
   ]
  },
  {
   "cell_type": "code",
   "execution_count": 112,
   "metadata": {},
   "outputs": [
    {
     "name": "stdout",
     "output_type": "stream",
     "text": [
      "<class 'pandas.core.frame.DataFrame'>\n",
      "DatetimeIndex: 12759 entries, 1968-01-02 to 2018-06-26\n",
      "Data columns (total 6 columns):\n",
      "USD (AM)     12758 non-null float64\n",
      "USD (PM)     12622 non-null float64\n",
      "GBP (AM)     12748 non-null float64\n",
      "GBP (PM)     12611 non-null float64\n",
      "EURO (AM)    4922 non-null float64\n",
      "EURO (PM)    4885 non-null float64\n",
      "dtypes: float64(6)\n",
      "memory usage: 697.8 KB\n"
     ]
    }
   ],
   "source": [
    "gold_df.info()"
   ]
  },
  {
   "cell_type": "code",
   "execution_count": 113,
   "metadata": {},
   "outputs": [
    {
     "name": "stdout",
     "output_type": "stream",
     "text": [
      "<class 'pandas.core.frame.DataFrame'>\n",
      "DatetimeIndex: 12759 entries, 1968-01-02 to 2018-06-26\n",
      "Data columns (total 6 columns):\n",
      "USD (AM)     12758 non-null float64\n",
      "USD (PM)     12622 non-null float64\n",
      "GBP (AM)     12748 non-null float64\n",
      "GBP (PM)     12611 non-null float64\n",
      "EURO (AM)    4922 non-null float64\n",
      "EURO (PM)    4885 non-null float64\n",
      "dtypes: float64(6)\n",
      "memory usage: 697.8 KB\n"
     ]
    }
   ],
   "source": [
    "gold_df.info()"
   ]
  },
  {
   "cell_type": "code",
   "execution_count": 114,
   "metadata": {},
   "outputs": [
    {
     "data": {
      "text/plain": [
       "Index(['USD (AM)', 'USD (PM)', 'GBP (AM)', 'GBP (PM)', 'EURO (AM)',\n",
       "       'EURO (PM)'],\n",
       "      dtype='object')"
      ]
     },
     "execution_count": 114,
     "metadata": {},
     "output_type": "execute_result"
    }
   ],
   "source": [
    "gold_df.columns"
   ]
  },
  {
   "cell_type": "code",
   "execution_count": 115,
   "metadata": {},
   "outputs": [],
   "source": [
    "gold_df.drop([ 'GBP (AM)', 'GBP (PM)', 'EURO (AM)',\n",
    "       'EURO (PM)', 'USD (PM)'], axis=1, inplace=True)"
   ]
  },
  {
   "cell_type": "code",
   "execution_count": 116,
   "metadata": {},
   "outputs": [],
   "source": [
    "gold_df.columns=['gold_price']"
   ]
  },
  {
   "cell_type": "code",
   "execution_count": 117,
   "metadata": {},
   "outputs": [
    {
     "data": {
      "text/html": [
       "<div>\n",
       "<style scoped>\n",
       "    .dataframe tbody tr th:only-of-type {\n",
       "        vertical-align: middle;\n",
       "    }\n",
       "\n",
       "    .dataframe tbody tr th {\n",
       "        vertical-align: top;\n",
       "    }\n",
       "\n",
       "    .dataframe thead th {\n",
       "        text-align: right;\n",
       "    }\n",
       "</style>\n",
       "<table border=\"1\" class=\"dataframe\">\n",
       "  <thead>\n",
       "    <tr style=\"text-align: right;\">\n",
       "      <th></th>\n",
       "      <th>gold_price</th>\n",
       "    </tr>\n",
       "    <tr>\n",
       "      <th>Date</th>\n",
       "      <th></th>\n",
       "    </tr>\n",
       "  </thead>\n",
       "  <tbody>\n",
       "    <tr>\n",
       "      <th>1968-01-02</th>\n",
       "      <td>35.18</td>\n",
       "    </tr>\n",
       "    <tr>\n",
       "      <th>1968-01-03</th>\n",
       "      <td>35.16</td>\n",
       "    </tr>\n",
       "    <tr>\n",
       "      <th>1968-01-04</th>\n",
       "      <td>35.14</td>\n",
       "    </tr>\n",
       "    <tr>\n",
       "      <th>1968-01-05</th>\n",
       "      <td>35.14</td>\n",
       "    </tr>\n",
       "    <tr>\n",
       "      <th>1968-01-08</th>\n",
       "      <td>35.14</td>\n",
       "    </tr>\n",
       "  </tbody>\n",
       "</table>\n",
       "</div>"
      ],
      "text/plain": [
       "            gold_price\n",
       "Date                  \n",
       "1968-01-02       35.18\n",
       "1968-01-03       35.16\n",
       "1968-01-04       35.14\n",
       "1968-01-05       35.14\n",
       "1968-01-08       35.14"
      ]
     },
     "execution_count": 117,
     "metadata": {},
     "output_type": "execute_result"
    }
   ],
   "source": [
    "gold_df.head()"
   ]
  },
  {
   "cell_type": "code",
   "execution_count": 118,
   "metadata": {},
   "outputs": [],
   "source": [
    "gold_df.to_csv('gold_df.csv')"
   ]
  },
  {
   "cell_type": "code",
   "execution_count": 119,
   "metadata": {},
   "outputs": [],
   "source": [
    "SP500_df=pd.read_csv(\"SP500.csv\",index_col='Date')"
   ]
  },
  {
   "cell_type": "code",
   "execution_count": 120,
   "metadata": {},
   "outputs": [
    {
     "data": {
      "text/html": [
       "<div>\n",
       "<style scoped>\n",
       "    .dataframe tbody tr th:only-of-type {\n",
       "        vertical-align: middle;\n",
       "    }\n",
       "\n",
       "    .dataframe tbody tr th {\n",
       "        vertical-align: top;\n",
       "    }\n",
       "\n",
       "    .dataframe thead th {\n",
       "        text-align: right;\n",
       "    }\n",
       "</style>\n",
       "<table border=\"1\" class=\"dataframe\">\n",
       "  <thead>\n",
       "    <tr style=\"text-align: right;\">\n",
       "      <th></th>\n",
       "      <th>Open</th>\n",
       "      <th>High</th>\n",
       "      <th>Low</th>\n",
       "      <th>Close</th>\n",
       "      <th>Adj Close</th>\n",
       "      <th>Volume</th>\n",
       "    </tr>\n",
       "    <tr>\n",
       "      <th>Date</th>\n",
       "      <th></th>\n",
       "      <th></th>\n",
       "      <th></th>\n",
       "      <th></th>\n",
       "      <th></th>\n",
       "      <th></th>\n",
       "    </tr>\n",
       "  </thead>\n",
       "  <tbody>\n",
       "    <tr>\n",
       "      <th>1/2/2009</th>\n",
       "      <td>902.989990</td>\n",
       "      <td>934.729980</td>\n",
       "      <td>899.349976</td>\n",
       "      <td>931.799988</td>\n",
       "      <td>931.799988</td>\n",
       "      <td>4048270000</td>\n",
       "    </tr>\n",
       "    <tr>\n",
       "      <th>1/5/2009</th>\n",
       "      <td>929.169983</td>\n",
       "      <td>936.630005</td>\n",
       "      <td>919.530029</td>\n",
       "      <td>927.450012</td>\n",
       "      <td>927.450012</td>\n",
       "      <td>5413910000</td>\n",
       "    </tr>\n",
       "    <tr>\n",
       "      <th>1/6/2009</th>\n",
       "      <td>931.169983</td>\n",
       "      <td>943.849976</td>\n",
       "      <td>927.280029</td>\n",
       "      <td>934.700012</td>\n",
       "      <td>934.700012</td>\n",
       "      <td>5392620000</td>\n",
       "    </tr>\n",
       "    <tr>\n",
       "      <th>1/7/2009</th>\n",
       "      <td>927.450012</td>\n",
       "      <td>927.450012</td>\n",
       "      <td>902.369995</td>\n",
       "      <td>906.650024</td>\n",
       "      <td>906.650024</td>\n",
       "      <td>4704940000</td>\n",
       "    </tr>\n",
       "    <tr>\n",
       "      <th>1/8/2009</th>\n",
       "      <td>905.729980</td>\n",
       "      <td>910.000000</td>\n",
       "      <td>896.809998</td>\n",
       "      <td>909.729980</td>\n",
       "      <td>909.729980</td>\n",
       "      <td>4991550000</td>\n",
       "    </tr>\n",
       "  </tbody>\n",
       "</table>\n",
       "</div>"
      ],
      "text/plain": [
       "                Open        High         Low       Close   Adj Close  \\\n",
       "Date                                                                   \n",
       "1/2/2009  902.989990  934.729980  899.349976  931.799988  931.799988   \n",
       "1/5/2009  929.169983  936.630005  919.530029  927.450012  927.450012   \n",
       "1/6/2009  931.169983  943.849976  927.280029  934.700012  934.700012   \n",
       "1/7/2009  927.450012  927.450012  902.369995  906.650024  906.650024   \n",
       "1/8/2009  905.729980  910.000000  896.809998  909.729980  909.729980   \n",
       "\n",
       "              Volume  \n",
       "Date                  \n",
       "1/2/2009  4048270000  \n",
       "1/5/2009  5413910000  \n",
       "1/6/2009  5392620000  \n",
       "1/7/2009  4704940000  \n",
       "1/8/2009  4991550000  "
      ]
     },
     "execution_count": 120,
     "metadata": {},
     "output_type": "execute_result"
    }
   ],
   "source": [
    "SP500_df.head()"
   ]
  },
  {
   "cell_type": "code",
   "execution_count": 121,
   "metadata": {},
   "outputs": [
    {
     "name": "stdout",
     "output_type": "stream",
     "text": [
      "<class 'pandas.core.frame.DataFrame'>\n",
      "Index: 2387 entries, 1/2/2009 to 6/26/2018\n",
      "Data columns (total 6 columns):\n",
      "Open         2387 non-null float64\n",
      "High         2387 non-null float64\n",
      "Low          2387 non-null float64\n",
      "Close        2387 non-null float64\n",
      "Adj Close    2387 non-null float64\n",
      "Volume       2387 non-null int64\n",
      "dtypes: float64(5), int64(1)\n",
      "memory usage: 130.5+ KB\n"
     ]
    }
   ],
   "source": [
    "SP500_df.info()"
   ]
  },
  {
   "cell_type": "code",
   "execution_count": 122,
   "metadata": {},
   "outputs": [],
   "source": [
    "SP500_df.to_csv('SP500_df.csv')"
   ]
  },
  {
   "cell_type": "code",
   "execution_count": 123,
   "metadata": {},
   "outputs": [],
   "source": [
    "cobe_vix_df=pd.read_csv(\"COBE VIX.csv\", index_col='Date')"
   ]
  },
  {
   "cell_type": "code",
   "execution_count": 124,
   "metadata": {},
   "outputs": [],
   "source": [
    "cobe_vix_df.to_csv('cobe_vix_df.csv')"
   ]
  },
  {
   "cell_type": "code",
   "execution_count": 125,
   "metadata": {},
   "outputs": [
    {
     "name": "stdout",
     "output_type": "stream",
     "text": [
      "<class 'pandas.core.frame.DataFrame'>\n",
      "Index: 2387 entries, 1/2/2009 to 6/26/2018\n",
      "Data columns (total 6 columns):\n",
      "Open         2387 non-null float64\n",
      "High         2387 non-null float64\n",
      "Low          2387 non-null float64\n",
      "Close        2387 non-null float64\n",
      "Adj Close    2387 non-null float64\n",
      "Volume       2387 non-null int64\n",
      "dtypes: float64(5), int64(1)\n",
      "memory usage: 130.5+ KB\n"
     ]
    }
   ],
   "source": [
    "cobe_vix_df.info()"
   ]
  },
  {
   "cell_type": "code",
   "execution_count": 126,
   "metadata": {},
   "outputs": [],
   "source": [
    "currecy_I_pdf=pd.read_csv('CurrencyI.csv', index_col='Date')"
   ]
  },
  {
   "cell_type": "code",
   "execution_count": 127,
   "metadata": {},
   "outputs": [
    {
     "name": "stdout",
     "output_type": "stream",
     "text": [
      "<class 'pandas.core.frame.DataFrame'>\n",
      "Index: 2474 entries, 1/1/2009 to 6/26/2018\n",
      "Data columns (total 6 columns):\n",
      "EUR/USD Close    2474 non-null float64\n",
      "EUR/USD High     2474 non-null float64\n",
      "EUR/USD Low      2474 non-null float64\n",
      "USD/JPY Close    2474 non-null float64\n",
      "USD/JPY High     2474 non-null float64\n",
      "USD/JPY Low      2474 non-null float64\n",
      "dtypes: float64(6)\n",
      "memory usage: 135.3+ KB\n"
     ]
    }
   ],
   "source": [
    "currecy_I_pdf.info()"
   ]
  },
  {
   "cell_type": "code",
   "execution_count": 128,
   "metadata": {},
   "outputs": [],
   "source": [
    "currecy_I_pdf.to_csv('currecy_I_df.csv')"
   ]
  },
  {
   "cell_type": "code",
   "execution_count": 129,
   "metadata": {},
   "outputs": [],
   "source": [
    "currecy_II_pdf=pd.read_csv('CurrencyII.csv', index_col='Date')"
   ]
  },
  {
   "cell_type": "code",
   "execution_count": 130,
   "metadata": {},
   "outputs": [
    {
     "name": "stdout",
     "output_type": "stream",
     "text": [
      "<class 'pandas.core.frame.DataFrame'>\n",
      "Index: 2474 entries, 1/1/2009 to 6/26/2018\n",
      "Data columns (total 4 columns):\n",
      " Open     2474 non-null float64\n",
      " High     2474 non-null float64\n",
      " Low      2474 non-null float64\n",
      " Close    2474 non-null float64\n",
      "dtypes: float64(4)\n",
      "memory usage: 96.6+ KB\n"
     ]
    }
   ],
   "source": [
    "currecy_II_pdf.info()"
   ]
  },
  {
   "cell_type": "code",
   "execution_count": 131,
   "metadata": {},
   "outputs": [],
   "source": [
    "currecy_II_pdf.to_csv('currecy_II_df.csv')"
   ]
  },
  {
   "cell_type": "code",
   "execution_count": null,
   "metadata": {},
   "outputs": [],
   "source": []
  }
 ],
 "metadata": {
  "kernelspec": {
   "display_name": "Python 3",
   "language": "python",
   "name": "python3"
  },
  "language_info": {
   "codemirror_mode": {
    "name": "ipython",
    "version": 3
   },
   "file_extension": ".py",
   "mimetype": "text/x-python",
   "name": "python",
   "nbconvert_exporter": "python",
   "pygments_lexer": "ipython3",
   "version": "3.6.0"
  }
 },
 "nbformat": 4,
 "nbformat_minor": 2
}
